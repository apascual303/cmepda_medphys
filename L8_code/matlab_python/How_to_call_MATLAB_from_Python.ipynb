{
 "cells": [
  {
   "cell_type": "markdown",
   "id": "ab13bcac",
   "metadata": {},
   "source": [
    "# How to call MATLAB from Python "
   ]
  },
  {
   "cell_type": "markdown",
   "id": "7cdff180",
   "metadata": {},
   "source": [
    "Let us suppose that we have already developed a MATLAB function to do some image processing (some_processing.m) and we want to use it in an analysis pipeline we are setting up in Python. "
   ]
  },
  {
   "cell_type": "code",
   "execution_count": 20,
   "id": "41e2d667",
   "metadata": {},
   "outputs": [],
   "source": [
    "import numpy as np"
   ]
  },
  {
   "cell_type": "markdown",
   "id": "b065d797",
   "metadata": {},
   "source": [
    "Start the MATLAB engine  "
   ]
  },
  {
   "cell_type": "code",
   "execution_count": 21,
   "id": "67a4fb05",
   "metadata": {},
   "outputs": [
    {
     "name": "stdout",
     "output_type": "stream",
     "text": [
      "<matlab.engine.matlabengine.MatlabEngine object at 0x7f8e834270a0>\n"
     ]
    }
   ],
   "source": [
    "import matlab.engine\n",
    "eng = matlab.engine.start_matlab()\n",
    "print(eng)"
   ]
  },
  {
   "cell_type": "markdown",
   "id": "a7cbce13",
   "metadata": {},
   "source": [
    "We can define MATLAB objects and apply MATLAB functions to them ...  "
   ]
  },
  {
   "cell_type": "code",
   "execution_count": 22,
   "id": "b0824df2",
   "metadata": {},
   "outputs": [],
   "source": [
    "M1 = eng.ones(3)"
   ]
  },
  {
   "cell_type": "code",
   "execution_count": 23,
   "id": "c26f4033",
   "metadata": {},
   "outputs": [
    {
     "data": {
      "text/plain": [
       "matlab.double([[1.0,1.0,1.0],[1.0,1.0,1.0],[1.0,1.0,1.0]])"
      ]
     },
     "execution_count": 23,
     "metadata": {},
     "output_type": "execute_result"
    }
   ],
   "source": [
    "M1"
   ]
  },
  {
   "cell_type": "code",
   "execution_count": 24,
   "id": "7ca03f8b",
   "metadata": {},
   "outputs": [
    {
     "data": {
      "text/plain": [
       "'  some_matlab_processing perfome a sample processing of a MATLAB array.\\n  Taking the C array as input, it returns two output arrays: A and B\\n  with the same dimension as C.\\n'"
      ]
     },
     "execution_count": 24,
     "metadata": {},
     "output_type": "execute_result"
    }
   ],
   "source": [
    "eng.help('some_matlab_processing')"
   ]
  },
  {
   "cell_type": "code",
   "execution_count": 25,
   "id": "72da021b",
   "metadata": {},
   "outputs": [],
   "source": [
    "A, B = eng.some_matlab_processing(M1, nargout=2)"
   ]
  },
  {
   "cell_type": "code",
   "execution_count": 33,
   "id": "77799648",
   "metadata": {},
   "outputs": [
    {
     "data": {
      "text/plain": [
       "matlab.uint8([[1,0,0],[0,1,2]])"
      ]
     },
     "execution_count": 33,
     "metadata": {},
     "output_type": "execute_result"
    }
   ],
   "source": [
    "A"
   ]
  },
  {
   "cell_type": "code",
   "execution_count": 26,
   "id": "69c41497",
   "metadata": {},
   "outputs": [
    {
     "name": "stdout",
     "output_type": "stream",
     "text": [
      "[[1.0,1.0,1.0],[1.0,1.0,1.0],[1.0,1.0,1.0]]\n"
     ]
    }
   ],
   "source": [
    "print(A)"
   ]
  },
  {
   "cell_type": "code",
   "execution_count": 27,
   "id": "458b454d",
   "metadata": {},
   "outputs": [
    {
     "name": "stdout",
     "output_type": "stream",
     "text": [
      "[[2.0,2.0,2.0],[2.0,2.0,2.0],[2.0,2.0,2.0]]\n"
     ]
    }
   ],
   "source": [
    "print(B)"
   ]
  },
  {
   "cell_type": "markdown",
   "id": "aa2e50cb",
   "metadata": {},
   "source": [
    "... then we can convert the matlab objects provided as outputs into numpy arrays"
   ]
  },
  {
   "cell_type": "code",
   "execution_count": 28,
   "id": "4369aa39",
   "metadata": {},
   "outputs": [],
   "source": [
    "A = np.asarray(A)\n",
    "B = np.asarray(B)"
   ]
  },
  {
   "cell_type": "code",
   "execution_count": 29,
   "id": "7ab9a1b8",
   "metadata": {},
   "outputs": [
    {
     "data": {
      "text/plain": [
       "(array([[1., 1., 1.],\n",
       "        [1., 1., 1.],\n",
       "        [1., 1., 1.]]),\n",
       " array([[2., 2., 2.],\n",
       "        [2., 2., 2.],\n",
       "        [2., 2., 2.]]))"
      ]
     },
     "execution_count": 29,
     "metadata": {},
     "output_type": "execute_result"
    }
   ],
   "source": [
    "A, B"
   ]
  },
  {
   "cell_type": "markdown",
   "id": "e61b05c4",
   "metadata": {},
   "source": [
    "We can also directly input np arrays to matlab functions. The conversion to a suitable matlab format will be automatically done"
   ]
  },
  {
   "cell_type": "code",
   "execution_count": 30,
   "id": "81c10971",
   "metadata": {},
   "outputs": [],
   "source": [
    "Im1 = np.array([[1.0, 0.0, 0.0], [0.0, 1.0, 2.0]], dtype=\"uint8\")"
   ]
  },
  {
   "cell_type": "code",
   "execution_count": 31,
   "id": "cd49848a",
   "metadata": {},
   "outputs": [],
   "source": [
    "A, B = eng.some_matlab_processing(Im1, nargout=2)"
   ]
  },
  {
   "cell_type": "code",
   "execution_count": 32,
   "id": "e0e0d004",
   "metadata": {},
   "outputs": [
    {
     "data": {
      "text/plain": [
       "(matlab.uint8([[1,0,0],[0,1,2]]), matlab.uint8([[2,0,0],[0,2,4]]))"
      ]
     },
     "execution_count": 32,
     "metadata": {},
     "output_type": "execute_result"
    }
   ],
   "source": [
    "A, B"
   ]
  },
  {
   "cell_type": "code",
   "execution_count": 18,
   "id": "306bff3c",
   "metadata": {},
   "outputs": [],
   "source": [
    "eng.quit()"
   ]
  },
  {
   "cell_type": "code",
   "execution_count": null,
   "id": "d07982d1",
   "metadata": {},
   "outputs": [],
   "source": []
  }
 ],
 "metadata": {
  "kernelspec": {
   "display_name": "Python 3 (ipykernel)",
   "language": "python",
   "name": "python3"
  },
  "language_info": {
   "codemirror_mode": {
    "name": "ipython",
    "version": 3
   },
   "file_extension": ".py",
   "mimetype": "text/x-python",
   "name": "python",
   "nbconvert_exporter": "python",
   "pygments_lexer": "ipython3",
   "version": "3.8.5"
  }
 },
 "nbformat": 4,
 "nbformat_minor": 5
}
